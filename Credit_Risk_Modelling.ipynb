{
  "nbformat": 4,
  "nbformat_minor": 0,
  "metadata": {
    "colab": {
      "provenance": []
    },
    "kernelspec": {
      "name": "python3",
      "display_name": "Python 3"
    },
    "language_info": {
      "name": "python"
    }
  },
  "cells": [
    {
      "cell_type": "markdown",
      "source": [
        "### Import necessary libraries"
      ],
      "metadata": {
        "id": "8t9WApTivYtQ"
      }
    },
    {
      "cell_type": "code",
      "execution_count": null,
      "metadata": {
        "id": "pFCIw7RYrI1T"
      },
      "outputs": [],
      "source": [
        "import numpy as np\n",
        "import matplotlib.pyplot as plt\n",
        "import pandas as pd\n",
        "import seaborn as sns\n",
        "from sklearn.metrics import r2_score, classification_report, accuracy_score, precision_recall_fscore_support\n",
        "from sklearn.model_selection import train_test_split\n",
        "from sklearn.ensemble import RandomForestClassifier\n",
        "from scipy.stats import chi2_contingency\n",
        "from statsmodels.stats.outliers_influence import variance_inflation_factor\n",
        "import warnings\n",
        "import os\n",
        "warnings.filterwarnings('ignore')"
      ]
    },
    {
      "cell_type": "markdown",
      "source": [
        "### Load the dataset"
      ],
      "metadata": {
        "id": "t3Y_PV37vfRZ"
      }
    },
    {
      "cell_type": "code",
      "source": [
        "a1 = pd.read_excel('/content/case_study1.xlsx')\n",
        "a2 = pd.read_excel('/content/case_study2.xlsx')"
      ],
      "metadata": {
        "id": "IPKuLjyswsfP"
      },
      "execution_count": null,
      "outputs": []
    },
    {
      "cell_type": "code",
      "source": [
        "df1 = a1.copy()\n",
        "df2 = a2.copy()"
      ],
      "metadata": {
        "id": "AK6bXF6PyJMd"
      },
      "execution_count": null,
      "outputs": []
    },
    {
      "cell_type": "markdown",
      "source": [
        "### Remove nulls"
      ],
      "metadata": {
        "id": "qFEBh60r22Y0"
      }
    },
    {
      "cell_type": "code",
      "source": [
        "df1 = df1.loc[df1['Age_Oldest_TL'] != -99999]"
      ],
      "metadata": {
        "id": "PSXGJK2wy1Tp"
      },
      "execution_count": null,
      "outputs": []
    },
    {
      "cell_type": "code",
      "source": [
        "columns_to_be_removed = []\n",
        "\n",
        "for i in df2.columns:\n",
        "    if df2.loc[df2[i] == -99999].shape[0] > 10000:\n",
        "        columns_to_be_removed.append(i)\n",
        "\n",
        "df2 = df2.drop(columns=columns_to_be_removed)"
      ],
      "metadata": {
        "id": "fxVip0wyzwcK"
      },
      "execution_count": null,
      "outputs": []
    },
    {
      "cell_type": "code",
      "source": [
        "for i in df2.columns:\n",
        "    df2.loc[df2[i] == -99999]\n",
        "\n",
        "for i in list(df1.columns):\n",
        "  if i in list(df2.columns):\n",
        "    print(i)"
      ],
      "metadata": {
        "colab": {
          "base_uri": "https://localhost:8080/"
        },
        "id": "K2O5V3kL0lrk",
        "outputId": "dcd71d4e-0da1-47bd-bbc3-40b2ee3ce16f"
      },
      "execution_count": null,
      "outputs": [
        {
          "output_type": "stream",
          "name": "stdout",
          "text": [
            "PROSPECTID\n"
          ]
        }
      ]
    },
    {
      "cell_type": "markdown",
      "source": [
        "### Merge the two dataframes, inner join so that no nulls are present"
      ],
      "metadata": {
        "id": "l4qsH9ib3DRQ"
      }
    },
    {
      "cell_type": "code",
      "source": [
        "df = pd.merge(df1, df2, how='inner', left_on=['PROSPECTID'], right_on=['PROSPECTID'])"
      ],
      "metadata": {
        "id": "mdcQrDo-QKLX"
      },
      "execution_count": null,
      "outputs": []
    },
    {
      "cell_type": "code",
      "source": [
        "df.isna().sum().sum()"
      ],
      "metadata": {
        "colab": {
          "base_uri": "https://localhost:8080/"
        },
        "id": "AZpWBEYMRYHU",
        "outputId": "850a09f0-ead9-43b8-8b86-f096cfc89ed0"
      },
      "execution_count": null,
      "outputs": [
        {
          "output_type": "execute_result",
          "data": {
            "text/plain": [
              "0"
            ]
          },
          "metadata": {},
          "execution_count": 8
        }
      ]
    },
    {
      "cell_type": "markdown",
      "source": [
        "# Merging two dataframes"
      ],
      "metadata": {
        "id": "h64zQ02F3M8B"
      }
    },
    {
      "cell_type": "code",
      "source": [
        "for i in df.columns:\n",
        "  if df[i].dtype == 'object':\n",
        "    print(i)"
      ],
      "metadata": {
        "colab": {
          "base_uri": "https://localhost:8080/"
        },
        "id": "r2xw5zyKRdHE",
        "outputId": "8d674da5-b717-4f33-bf0b-735782875e89"
      },
      "execution_count": null,
      "outputs": [
        {
          "output_type": "stream",
          "name": "stdout",
          "text": [
            "MARITALSTATUS\n",
            "EDUCATION\n",
            "GENDER\n",
            "last_prod_enq2\n",
            "first_prod_enq2\n",
            "Approved_Flag\n"
          ]
        }
      ]
    },
    {
      "cell_type": "code",
      "source": [
        "for i in ['MARITALSTATUS', 'EDUCATION', 'GENDER', 'last_prod_enq2', 'first_prod_enq2', 'Approved_Flag']:\n",
        "  chi2, pval, _, _ = chi2_contingency(pd.crosstab(df[i], df['Approved_Flag']))\n",
        "  print(i, ':', pval)"
      ],
      "metadata": {
        "colab": {
          "base_uri": "https://localhost:8080/"
        },
        "id": "bHaPrjNcR-Zk",
        "outputId": "0ff8035d-483d-40cd-9404-c303a3977dae"
      },
      "execution_count": null,
      "outputs": [
        {
          "output_type": "stream",
          "name": "stdout",
          "text": [
            "MARITALSTATUS : 2.7347247145640217e-257\n",
            "EDUCATION : 6.772122013692765e-38\n",
            "GENDER : 0.000259241464445085\n",
            "last_prod_enq2 : 0.0\n",
            "first_prod_enq2 : 0.0\n",
            "Approved_Flag : 0.0\n"
          ]
        }
      ]
    },
    {
      "cell_type": "code",
      "source": [
        "numeric_columns = []\n",
        "for i in df.columns:\n",
        "  if df[i].dtype != 'object' and i not in ['PROSPECTID', 'Approved_Flag']:\n",
        "    numeric_columns.append(i)"
      ],
      "metadata": {
        "id": "s7JMJPffTbXY"
      },
      "execution_count": null,
      "outputs": []
    },
    {
      "cell_type": "code",
      "source": [
        "vif_data = df[numeric_columns]\n",
        "total_columns = vif_data.shape[1]\n",
        "columns_to_be_kept = []\n",
        "column_index = 0"
      ],
      "metadata": {
        "id": "mkMpGWQKUCpP"
      },
      "execution_count": null,
      "outputs": []
    },
    {
      "cell_type": "code",
      "source": [
        "for i in range(0, total_columns):\n",
        "  vif_value = variance_inflation_factor(vif_data, column_index)\n",
        "  print(column_index, ':', vif_value)\n",
        "\n",
        "  if vif_value < 6:\n",
        "    columns_to_be_kept.append(numeric_columns[i])\n",
        "    column_index = column_index + 1\n",
        "  else:\n",
        "    vif_data = vif_data.drop([numeric_columns[i]], axis=1)"
      ],
      "metadata": {
        "colab": {
          "base_uri": "https://localhost:8080/"
        },
        "id": "9OobKoffU7yo",
        "outputId": "ec082148-3d26-4cc3-9566-a17b8283011b"
      },
      "execution_count": null,
      "outputs": [
        {
          "output_type": "stream",
          "name": "stdout",
          "text": [
            "0 : inf\n",
            "0 : inf\n",
            "0 : 10.96731827150461\n",
            "0 : 8.28043194336109\n",
            "0 : 6.428482253706439\n",
            "0 : 5.510394576267282\n",
            "1 : 2.4900436238094175\n",
            "2 : inf\n",
            "2 : 1813.189446652738\n",
            "2 : 8.26063898818775\n",
            "2 : 3.670325423946726\n",
            "3 : 5.694216446776847\n",
            "4 : 4.970645827346287\n",
            "5 : 2.002032552173907\n",
            "6 : inf\n",
            "6 : 4.788323772675481\n",
            "7 : 21.142530080727536\n",
            "7 : 32.035916588478756\n",
            "7 : 4.45209231888243\n",
            "8 : 2.9986771147212234\n",
            "9 : 2.799174255749638\n",
            "10 : 4.0849555302802525\n",
            "11 : 2.180147515711328\n",
            "12 : 5.113889440000764\n",
            "13 : 3.247544480100828\n",
            "14 : 1.2747264556566809\n",
            "15 : 8.005890070879012\n",
            "15 : 5.397672188311226\n",
            "16 : inf\n",
            "16 : 7.274564152451663\n",
            "16 : 1.4153535674199744\n",
            "17 : 8.503819690047568\n",
            "17 : 1.6294794750057182\n",
            "18 : 7.078919419257034\n",
            "18 : 15.410978252728741\n",
            "18 : 1.836324397616079\n",
            "19 : 1.5650766286119036\n",
            "20 : 2.546098272138208\n",
            "21 : 3.1032891116488006\n",
            "22 : 2.194287797978665\n",
            "23 : 7.383989877498994\n",
            "23 : 2.0751482560411603\n",
            "24 : 2.726449304987256\n",
            "25 : 6.293135612441871\n",
            "25 : 2.710267787144797\n",
            "26 : 4.923780392902989\n",
            "27 : 347440509.5926095\n",
            "27 : 2991543440.4349923\n",
            "27 : 11936689705.599522\n",
            "27 : 1408975611.9399073\n",
            "27 : 1782848308.7841969\n",
            "27 : 5336252451.079604\n",
            "27 : 494571895.8992288\n",
            "27 : 8494.670892803804\n",
            "27 : 666304530.2187972\n",
            "27 : 783906969.1539816\n",
            "27 : 1.3267888481797092\n",
            "28 : 21.7338293165276\n",
            "28 : 2.8690860362884307\n",
            "29 : 3.394057799688926\n",
            "30 : 9.358233250211832\n",
            "30 : 6.988945461891267\n",
            "30 : 1.005352159565922\n",
            "31 : 3.0721346286046014\n",
            "32 : 2.727775618650995\n",
            "33 : 20.732955972008966\n",
            "33 : 16.17170247740565\n",
            "33 : 1.4325207945649954\n",
            "34 : 1.2226466873251394\n",
            "35 : 1.9740196765766058\n",
            "36 : 4.387913388913403\n",
            "37 : 12.825133344835534\n"
          ]
        }
      ]
    },
    {
      "cell_type": "code",
      "source": [
        "from scipy.stats import f_oneway\n",
        "\n",
        "columns_to_be_kept_numerical = []\n",
        "\n",
        "for i in columns_to_be_kept:\n",
        "  a = list(df[i])\n",
        "  b = list(df['Approved_Flag'])\n",
        "\n",
        "  group_P1 = [value for value, group in zip(a, b) if group == 'P1']\n",
        "  group_P2 = [value for value, group in zip(a, b) if group == 'P2']\n",
        "  group_P3 = [value for value, group in zip(a, b) if group == 'P3']\n",
        "  group_P4 = [value for value, group in zip(a, b) if group == 'P4']\n",
        "\n",
        "  f_statistic, p_value = f_oneway(group_P1, group_P2, group_P3, group_P4)\n",
        "\n",
        "  if p_value < 0.05:\n",
        "    columns_to_be_kept_numerical.append(i)"
      ],
      "metadata": {
        "id": "JE0egsoyKqVK"
      },
      "execution_count": null,
      "outputs": []
    },
    {
      "cell_type": "code",
      "source": [
        "f_statistic"
      ],
      "metadata": {
        "colab": {
          "base_uri": "https://localhost:8080/"
        },
        "id": "dGR234fHNHlS",
        "outputId": "7046bc10-ead1-4c0c-840c-16223cb71b16"
      },
      "execution_count": null,
      "outputs": [
        {
          "output_type": "execute_result",
          "data": {
            "text/plain": [
              "483.3714500929281"
            ]
          },
          "metadata": {},
          "execution_count": 15
        }
      ]
    },
    {
      "cell_type": "code",
      "source": [
        "p_value"
      ],
      "metadata": {
        "colab": {
          "base_uri": "https://localhost:8080/"
        },
        "id": "Lf4MOwFNNKW_",
        "outputId": "d5e4157f-a94d-4a7b-8c25-63a57925cc36"
      },
      "execution_count": null,
      "outputs": [
        {
          "output_type": "execute_result",
          "data": {
            "text/plain": [
              "9.07042366922547e-310"
            ]
          },
          "metadata": {},
          "execution_count": 16
        }
      ]
    },
    {
      "cell_type": "code",
      "source": [
        "features = columns_to_be_kept_numerical + ['MARITALSTATUS', 'EDUCATION', 'GENDER', 'last_prod_enq2', 'first_prod_enq2']\n",
        "df = df[features + ['Approved_Flag']]"
      ],
      "metadata": {
        "id": "470JRe5cNL3a"
      },
      "execution_count": null,
      "outputs": []
    },
    {
      "cell_type": "code",
      "source": [
        "['MARITALSTATUS', 'EDUCATION', 'GENDER', 'last_prod_enq2', 'first_prod_enq2']\n",
        "\n",
        "df['MARITALSTATUS'].unique()\n",
        "df['EDUCATION'].unique()\n",
        "df['GENDER'].unique()\n",
        "df['last_prod_enq2'].unique()\n",
        "df['first_prod_enq2'].unique()"
      ],
      "metadata": {
        "colab": {
          "base_uri": "https://localhost:8080/"
        },
        "id": "bYCk_wUSPt5d",
        "outputId": "ad7cb855-49f8-4e07-a6e0-0bb505439362"
      },
      "execution_count": null,
      "outputs": [
        {
          "output_type": "execute_result",
          "data": {
            "text/plain": [
              "array(['PL', 'ConsumerLoan', 'others', 'AL', 'HL', 'CC'], dtype=object)"
            ]
          },
          "metadata": {},
          "execution_count": 18
        }
      ]
    },
    {
      "cell_type": "code",
      "source": [
        "df.loc[df['EDUCATION'] == 'SSC',['EDUCATION']]              = 1\n",
        "df.loc[df['EDUCATION'] == '12TH',['EDUCATION']]             = 2\n",
        "df.loc[df['EDUCATION'] == 'GRADUATE',['EDUCATION']]         = 3\n",
        "df.loc[df['EDUCATION'] == 'UNDER GRADUATE',['EDUCATION']]   = 3\n",
        "df.loc[df['EDUCATION'] == 'POST-GRADUATE',['EDUCATION']]    = 4\n",
        "df.loc[df['EDUCATION'] == 'OTHERS',['EDUCATION']]           = 1\n",
        "df.loc[df['EDUCATION'] == 'PROFESSIONAL',['EDUCATION']]     = 3\n"
      ],
      "metadata": {
        "id": "2dT00A_NQJzI"
      },
      "execution_count": null,
      "outputs": []
    },
    {
      "cell_type": "code",
      "source": [
        "df['EDUCATION'].value_counts()\n",
        "df['EDUCATION'] = df['EDUCATION'].astype(int)\n",
        "df.info()"
      ],
      "metadata": {
        "colab": {
          "base_uri": "https://localhost:8080/"
        },
        "id": "J0CuS8uERCl6",
        "outputId": "12207a47-6e93-4fdd-8996-63857a2155ec"
      },
      "execution_count": null,
      "outputs": [
        {
          "output_type": "stream",
          "name": "stdout",
          "text": [
            "<class 'pandas.core.frame.DataFrame'>\n",
            "RangeIndex: 51296 entries, 0 to 51295\n",
            "Data columns (total 40 columns):\n",
            " #   Column                     Non-Null Count  Dtype  \n",
            "---  ------                     --------------  -----  \n",
            " 0   pct_tl_open_L6M            51296 non-null  float64\n",
            " 1   pct_tl_closed_L6M          51296 non-null  float64\n",
            " 2   Tot_TL_closed_L12M         51296 non-null  int64  \n",
            " 3   pct_tl_open_L12M           51296 non-null  float64\n",
            " 4   pct_tl_closed_L12M         51296 non-null  float64\n",
            " 5   Tot_Missed_Pmnt            51296 non-null  int64  \n",
            " 6   CC_TL                      51296 non-null  int64  \n",
            " 7   Home_TL                    51296 non-null  int64  \n",
            " 8   PL_TL                      51296 non-null  int64  \n",
            " 9   Secured_TL                 51296 non-null  int64  \n",
            " 10  Unsecured_TL               51296 non-null  int64  \n",
            " 11  Other_TL                   51296 non-null  int64  \n",
            " 12  Age_Oldest_TL              51296 non-null  int64  \n",
            " 13  Age_Newest_TL              51296 non-null  int64  \n",
            " 14  time_since_recent_payment  51296 non-null  int64  \n",
            " 15  max_recent_level_of_deliq  51296 non-null  int64  \n",
            " 16  num_deliq_6_12mts          51296 non-null  int64  \n",
            " 17  num_times_60p_dpd          51296 non-null  int64  \n",
            " 18  num_std_12mts              51296 non-null  int64  \n",
            " 19  num_sub                    51296 non-null  int64  \n",
            " 20  num_sub_12mts              51296 non-null  int64  \n",
            " 21  num_dbt                    51296 non-null  int64  \n",
            " 22  num_dbt_12mts              51296 non-null  int64  \n",
            " 23  num_lss                    51296 non-null  int64  \n",
            " 24  recent_level_of_deliq      51296 non-null  int64  \n",
            " 25  enq_L3m                    51296 non-null  int64  \n",
            " 26  NETMONTHLYINCOME           51296 non-null  int64  \n",
            " 27  Time_With_Curr_Empr        51296 non-null  int64  \n",
            " 28  CC_Flag                    51296 non-null  int64  \n",
            " 29  PL_Flag                    51296 non-null  int64  \n",
            " 30  pct_PL_enq_L6m_of_ever     51296 non-null  float64\n",
            " 31  pct_CC_enq_L6m_of_ever     51296 non-null  float64\n",
            " 32  HL_Flag                    51296 non-null  int64  \n",
            " 33  GL_Flag                    51296 non-null  int64  \n",
            " 34  MARITALSTATUS              51296 non-null  object \n",
            " 35  EDUCATION                  51296 non-null  int64  \n",
            " 36  GENDER                     51296 non-null  object \n",
            " 37  last_prod_enq2             51296 non-null  object \n",
            " 38  first_prod_enq2            51296 non-null  object \n",
            " 39  Approved_Flag              51296 non-null  object \n",
            "dtypes: float64(6), int64(29), object(5)\n",
            "memory usage: 15.7+ MB\n"
          ]
        }
      ]
    },
    {
      "cell_type": "code",
      "source": [
        "df_encoded = pd.get_dummies(df, columns=['MARITALSTATUS', 'GENDER', 'last_prod_enq2', 'first_prod_enq2'])\n",
        "\n",
        "df_encoded.info()\n",
        "k = df_encoded.describe()"
      ],
      "metadata": {
        "colab": {
          "base_uri": "https://localhost:8080/"
        },
        "id": "5CY_8tKFRmxu",
        "outputId": "4cf938c8-814f-448e-cb01-eb2af0d5934f"
      },
      "execution_count": null,
      "outputs": [
        {
          "output_type": "stream",
          "name": "stdout",
          "text": [
            "<class 'pandas.core.frame.DataFrame'>\n",
            "RangeIndex: 51296 entries, 0 to 51295\n",
            "Data columns (total 52 columns):\n",
            " #   Column                        Non-Null Count  Dtype  \n",
            "---  ------                        --------------  -----  \n",
            " 0   pct_tl_open_L6M               51296 non-null  float64\n",
            " 1   pct_tl_closed_L6M             51296 non-null  float64\n",
            " 2   Tot_TL_closed_L12M            51296 non-null  int64  \n",
            " 3   pct_tl_open_L12M              51296 non-null  float64\n",
            " 4   pct_tl_closed_L12M            51296 non-null  float64\n",
            " 5   Tot_Missed_Pmnt               51296 non-null  int64  \n",
            " 6   CC_TL                         51296 non-null  int64  \n",
            " 7   Home_TL                       51296 non-null  int64  \n",
            " 8   PL_TL                         51296 non-null  int64  \n",
            " 9   Secured_TL                    51296 non-null  int64  \n",
            " 10  Unsecured_TL                  51296 non-null  int64  \n",
            " 11  Other_TL                      51296 non-null  int64  \n",
            " 12  Age_Oldest_TL                 51296 non-null  int64  \n",
            " 13  Age_Newest_TL                 51296 non-null  int64  \n",
            " 14  time_since_recent_payment     51296 non-null  int64  \n",
            " 15  max_recent_level_of_deliq     51296 non-null  int64  \n",
            " 16  num_deliq_6_12mts             51296 non-null  int64  \n",
            " 17  num_times_60p_dpd             51296 non-null  int64  \n",
            " 18  num_std_12mts                 51296 non-null  int64  \n",
            " 19  num_sub                       51296 non-null  int64  \n",
            " 20  num_sub_12mts                 51296 non-null  int64  \n",
            " 21  num_dbt                       51296 non-null  int64  \n",
            " 22  num_dbt_12mts                 51296 non-null  int64  \n",
            " 23  num_lss                       51296 non-null  int64  \n",
            " 24  recent_level_of_deliq         51296 non-null  int64  \n",
            " 25  enq_L3m                       51296 non-null  int64  \n",
            " 26  NETMONTHLYINCOME              51296 non-null  int64  \n",
            " 27  Time_With_Curr_Empr           51296 non-null  int64  \n",
            " 28  CC_Flag                       51296 non-null  int64  \n",
            " 29  PL_Flag                       51296 non-null  int64  \n",
            " 30  pct_PL_enq_L6m_of_ever        51296 non-null  float64\n",
            " 31  pct_CC_enq_L6m_of_ever        51296 non-null  float64\n",
            " 32  HL_Flag                       51296 non-null  int64  \n",
            " 33  GL_Flag                       51296 non-null  int64  \n",
            " 34  EDUCATION                     51296 non-null  int64  \n",
            " 35  Approved_Flag                 51296 non-null  object \n",
            " 36  MARITALSTATUS_Married         51296 non-null  bool   \n",
            " 37  MARITALSTATUS_Single          51296 non-null  bool   \n",
            " 38  GENDER_F                      51296 non-null  bool   \n",
            " 39  GENDER_M                      51296 non-null  bool   \n",
            " 40  last_prod_enq2_AL             51296 non-null  bool   \n",
            " 41  last_prod_enq2_CC             51296 non-null  bool   \n",
            " 42  last_prod_enq2_ConsumerLoan   51296 non-null  bool   \n",
            " 43  last_prod_enq2_HL             51296 non-null  bool   \n",
            " 44  last_prod_enq2_PL             51296 non-null  bool   \n",
            " 45  last_prod_enq2_others         51296 non-null  bool   \n",
            " 46  first_prod_enq2_AL            51296 non-null  bool   \n",
            " 47  first_prod_enq2_CC            51296 non-null  bool   \n",
            " 48  first_prod_enq2_ConsumerLoan  51296 non-null  bool   \n",
            " 49  first_prod_enq2_HL            51296 non-null  bool   \n",
            " 50  first_prod_enq2_PL            51296 non-null  bool   \n",
            " 51  first_prod_enq2_others        51296 non-null  bool   \n",
            "dtypes: bool(16), float64(6), int64(29), object(1)\n",
            "memory usage: 14.9+ MB\n"
          ]
        }
      ]
    },
    {
      "cell_type": "markdown",
      "source": [
        "# Machine Learing model fitting\n"
      ],
      "metadata": {
        "id": "YTNRTyCl3g_x"
      }
    },
    {
      "cell_type": "markdown",
      "source": [
        "### Data processing\n",
        "#### 1. Random Forest"
      ],
      "metadata": {
        "id": "d3bi8dBH3jps"
      }
    },
    {
      "cell_type": "code",
      "source": [
        "y = df_encoded['Approved_Flag']\n",
        "X = df_encoded.drop(['Approved_Flag'], axis=1)\n",
        "x_train, x_test, y_train, y_test = train_test_split(X, y, test_size=0.2, random_state=42)\n",
        "rf_classifier = RandomForestClassifier(n_estimators=100, random_state=42)\n",
        "rf_classifier.fit(x_train, y_train)\n",
        "y_pred = rf_classifier.predict(x_test)\n",
        "\n",
        "accuracy_score = accuracy_score(y_test, y_pred)\n",
        "print()\n",
        "print(\"Accuracy Score:\", accuracy_score)\n",
        "print()\n",
        "precision_score, recall_score, f1_score, _ = precision_recall_fscore_support(y_test, y_pred)\n",
        "\n",
        "for i, v in enumerate(['p1','p2','p3','p4']):\n",
        "    print(f\"class {v}:\")\n",
        "    print(f\"precision: {precision_score[i]}\")\n",
        "    print(f\"recall: {recall_score[i]}\")\n",
        "    print(f\"f1_score: {f1_score[i]}\")\n",
        "    print()"
      ],
      "metadata": {
        "colab": {
          "base_uri": "https://localhost:8080/"
        },
        "id": "g_e2Cxg4S3so",
        "outputId": "05dfc515-0c8e-4118-a6b3-76d49804917f"
      },
      "execution_count": null,
      "outputs": [
        {
          "output_type": "stream",
          "name": "stdout",
          "text": [
            "\n",
            "Accuracy Score: 0.7783625730994153\n",
            "\n",
            "class p1:\n",
            "precision: 0.8125\n",
            "recall: 0.7152838427947599\n",
            "f1_score: 0.7607988852763586\n",
            "\n",
            "class p2:\n",
            "precision: 0.8155495978552278\n",
            "recall: 0.9331288343558283\n",
            "f1_score: 0.8703862660944205\n",
            "\n",
            "class p3:\n",
            "precision: 0.4323922734026746\n",
            "recall: 0.19782460910944935\n",
            "f1_score: 0.271455223880597\n",
            "\n",
            "class p4:\n",
            "precision: 0.707774798927614\n",
            "recall: 0.7046263345195729\n",
            "f1_score: 0.7061970575122604\n",
            "\n"
          ]
        }
      ]
    },
    {
      "cell_type": "markdown",
      "source": [
        "#### 2. xgboost"
      ],
      "metadata": {
        "id": "Bf3Gjt953s6f"
      }
    },
    {
      "cell_type": "code",
      "source": [
        "!pip install xgboost -U -q"
      ],
      "metadata": {
        "colab": {
          "base_uri": "https://localhost:8080/"
        },
        "id": "_ro2FWVzUsO-",
        "outputId": "1eba668e-ef79-4843-f87c-1b6c521a3528"
      },
      "execution_count": null,
      "outputs": [
        {
          "output_type": "stream",
          "name": "stdout",
          "text": [
            "\u001b[2K     \u001b[90m━━━━━━━━━━━━━━━━━━━━━━━━━━━━━━━━━━━━━━━━\u001b[0m \u001b[32m153.9/153.9 MB\u001b[0m \u001b[31m5.1 MB/s\u001b[0m eta \u001b[36m0:00:00\u001b[0m\n",
            "\u001b[2K     \u001b[90m━━━━━━━━━━━━━━━━━━━━━━━━━━━━━━━━━━━━━━━━\u001b[0m \u001b[32m190.9/190.9 MB\u001b[0m \u001b[31m6.0 MB/s\u001b[0m eta \u001b[36m0:00:00\u001b[0m\n",
            "\u001b[?25h\u001b[31mERROR: pip's dependency resolver does not currently take into account all the packages that are installed. This behaviour is the source of the following dependency conflicts.\n",
            "torch 2.3.1+cu121 requires nvidia-cublas-cu12==12.1.3.1; platform_system == \"Linux\" and platform_machine == \"x86_64\", which is not installed.\n",
            "torch 2.3.1+cu121 requires nvidia-cuda-cupti-cu12==12.1.105; platform_system == \"Linux\" and platform_machine == \"x86_64\", which is not installed.\n",
            "torch 2.3.1+cu121 requires nvidia-cuda-nvrtc-cu12==12.1.105; platform_system == \"Linux\" and platform_machine == \"x86_64\", which is not installed.\n",
            "torch 2.3.1+cu121 requires nvidia-cuda-runtime-cu12==12.1.105; platform_system == \"Linux\" and platform_machine == \"x86_64\", which is not installed.\n",
            "torch 2.3.1+cu121 requires nvidia-cudnn-cu12==8.9.2.26; platform_system == \"Linux\" and platform_machine == \"x86_64\", which is not installed.\n",
            "torch 2.3.1+cu121 requires nvidia-cufft-cu12==11.0.2.54; platform_system == \"Linux\" and platform_machine == \"x86_64\", which is not installed.\n",
            "torch 2.3.1+cu121 requires nvidia-curand-cu12==10.3.2.106; platform_system == \"Linux\" and platform_machine == \"x86_64\", which is not installed.\n",
            "torch 2.3.1+cu121 requires nvidia-cusolver-cu12==11.4.5.107; platform_system == \"Linux\" and platform_machine == \"x86_64\", which is not installed.\n",
            "torch 2.3.1+cu121 requires nvidia-cusparse-cu12==12.1.0.106; platform_system == \"Linux\" and platform_machine == \"x86_64\", which is not installed.\n",
            "torch 2.3.1+cu121 requires nvidia-nvtx-cu12==12.1.105; platform_system == \"Linux\" and platform_machine == \"x86_64\", which is not installed.\n",
            "torch 2.3.1+cu121 requires nvidia-nccl-cu12==2.20.5; platform_system == \"Linux\" and platform_machine == \"x86_64\", but you have nvidia-nccl-cu12 2.22.3 which is incompatible.\u001b[0m\u001b[31m\n",
            "\u001b[0m"
          ]
        }
      ]
    },
    {
      "cell_type": "code",
      "source": [
        "import xgboost as xgb\n",
        "from sklearn.preprocessing import LabelEncoder\n",
        "from sklearn.metrics import accuracy_score\n",
        "\n",
        "xgb_classifier = xgb.XGBClassifier(objectives='multi:softmax', num_class=4)\n",
        "\n",
        "y = df_encoded['Approved_Flag']\n",
        "X = df_encoded.drop(['Approved_Flag'], axis=1)\n",
        "\n",
        "label_encoder = LabelEncoder()\n",
        "y_encoded = label_encoder.fit_transform(y)\n",
        "\n",
        "x_train, x_test, y_train, y_test = train_test_split(X, y_encoded, test_size=0.2, random_state=42)\n",
        "xgb_classifier.fit(x_train, y_train)\n",
        "y_pred = xgb_classifier.predict(x_test)\n",
        "\n",
        "accuracy= accuracy_score(y_test, y_pred)\n",
        "print()\n",
        "print(f\"Accuracy Score: {accuracy: .2f}\")\n",
        "print()\n",
        "\n",
        "precision, recall, f1_score, _ = precision_recall_fscore_support(y_test, y_pred)\n",
        "\n",
        "for i, v in enumerate(['p1','p2','p3','p4']):\n",
        "    print(f\"class {v}:\")\n",
        "    print(f\"precision: {precision[i]}\")\n",
        "    print(f\"recall: {recall[i]}\")\n",
        "    print(f\"f1_score: {f1_score[i]}\")\n",
        "    print()"
      ],
      "metadata": {
        "id": "Njq-BP_uVVcG",
        "colab": {
          "base_uri": "https://localhost:8080/"
        },
        "outputId": "dc355a1a-5a5f-445e-f8b6-724be20a9e9c"
      },
      "execution_count": null,
      "outputs": [
        {
          "output_type": "stream",
          "name": "stdout",
          "text": [
            "\n",
            "Accuracy Score:  0.79\n",
            "\n",
            "class p1:\n",
            "precision: 0.7850045167118338\n",
            "recall: 0.7589519650655022\n",
            "f1_score: 0.7717584369449378\n",
            "\n",
            "class p2:\n",
            "precision: 0.8385925719072884\n",
            "recall: 0.9211656441717792\n",
            "f1_score: 0.8779418213711445\n",
            "\n",
            "class p3:\n",
            "precision: 0.45555555555555555\n",
            "recall: 0.2787219578518015\n",
            "f1_score: 0.3458456347532686\n",
            "\n",
            "class p4:\n",
            "precision: 0.7369385884509624\n",
            "recall: 0.7153024911032029\n",
            "f1_score: 0.7259593679458239\n",
            "\n"
          ]
        }
      ]
    },
    {
      "cell_type": "markdown",
      "source": [
        "#### 3. Decision Tree"
      ],
      "metadata": {
        "id": "OKiCx0kC3zK-"
      }
    },
    {
      "cell_type": "code",
      "source": [
        "from sklearn.tree import DecisionTreeClassifier\n",
        "\n",
        "y = df_encoded['Approved_Flag']\n",
        "X = df_encoded.drop(['Approved_Flag'], axis=1)\n",
        "\n",
        "x_train, x_test, y_train, y_test = train_test_split(X, y, test_size=0.2, random_state=42)\n",
        "\n",
        "dt_model = DecisionTreeClassifier(max_depth = 20, min_samples_split = 10)\n",
        "dt_model.fit(x_train, y_train)\n",
        "y_pred = dt_model.predict(x_test)\n",
        "\n",
        "accuracy= accuracy_score(y_test, y_pred)\n",
        "print()\n",
        "print(f\"Accuracy Score: {accuracy: .2f}\")\n",
        "print()\n",
        "\n",
        "precision, recall, f1_score, _ = precision_recall_fscore_support(y_test, y_pred)\n",
        "\n",
        "for i, v in enumerate(['p1','p2','p3','p4']):\n",
        "    print(f\"class {v}:\")\n",
        "    print(f\"precision: {precision[i]}\")\n",
        "    print(f\"recall: {recall[i]}\")\n",
        "    print(f\"f1_score: {f1_score[i]}\")\n",
        "    print()"
      ],
      "metadata": {
        "colab": {
          "base_uri": "https://localhost:8080/"
        },
        "id": "WqD5W99pjZ50",
        "outputId": "8a77b31d-45b7-4538-c15c-53fc0c4cd7c0"
      },
      "execution_count": null,
      "outputs": [
        {
          "output_type": "stream",
          "name": "stdout",
          "text": [
            "\n",
            "Accuracy Score:  0.73\n",
            "\n",
            "class p1:\n",
            "precision: 0.6951827242524917\n",
            "recall: 0.731004366812227\n",
            "f1_score: 0.7126436781609194\n",
            "\n",
            "class p2:\n",
            "precision: 0.8263982102908277\n",
            "recall: 0.8498466257668712\n",
            "f1_score: 0.8379584120982987\n",
            "\n",
            "class p3:\n",
            "precision: 0.34103156274056967\n",
            "recall: 0.30115567641060503\n",
            "f1_score: 0.31985559566787003\n",
            "\n",
            "class p4:\n",
            "precision: 0.6473384030418251\n",
            "recall: 0.6058718861209964\n",
            "f1_score: 0.6259191176470589\n",
            "\n"
          ]
        }
      ]
    },
    {
      "cell_type": "markdown",
      "source": [
        " xgboost is giving me best results\n",
        "\n",
        " We will further finetune it\n",
        "\n",
        " Apply standard scaler"
      ],
      "metadata": {
        "id": "EwG9Cetz379X"
      }
    },
    {
      "cell_type": "code",
      "source": [
        "from sklearn.preprocessing import StandardScaler\n",
        "\n",
        "columns_to_be_scaled = ['Age_Oldest_TL','Age_Newest_TL','time_since_recent_payment',\n",
        "'max_recent_level_of_deliq','recent_level_of_deliq','NETMONTHLYINCOME','Time_With_Curr_Empr']\n",
        "\n",
        "for i in columns_to_be_scaled:\n",
        "    columns_data = df_encoded[i].values.reshape(-1, 1)\n",
        "    scaler = StandardScaler()\n",
        "    scaled_column = scaler.fit_transform(columns_data)\n",
        "    df_encoded[i] = scaled_column\n",
        "\n",
        "import xgboost as xgb\n",
        "from sklearn.preprocessing import LabelEncoder\n",
        "from sklearn.metrics import accuracy_score\n",
        "\n",
        "xgb_classifier = xgb.XGBClassifier(objectives='multi:softmax', num_class=4)\n",
        "\n",
        "y = df_encoded['Approved_Flag']\n",
        "X = df_encoded.drop(['Approved_Flag'], axis=1)\n",
        "\n",
        "label_encoder = LabelEncoder()\n",
        "y_encoded = label_encoder.fit_transform(y)\n",
        "\n",
        "x_train, x_test, y_train, y_test = train_test_split(X, y_encoded, test_size=0.2, random_state=42)\n",
        "xgb_classifier.fit(x_train, y_train)\n",
        "y_pred = xgb_classifier.predict(x_test)\n",
        "\n",
        "accuracy= accuracy_score(y_test, y_pred)\n",
        "print()\n",
        "print(f\"Accuracy Score: {accuracy: .2f}\")\n",
        "print()\n",
        "\n",
        "precision, recall, f1_score, _ = precision_recall_fscore_support(y_test, y_pred)\n",
        "\n",
        "for i, v in enumerate(['p1','p2','p3','p4']):\n",
        "    print(f\"class {v}:\")\n",
        "    print(f\"precision: {precision[i]}\")\n",
        "    print(f\"recall: {recall[i]}\")\n",
        "    print(f\"f1_score: {f1_score[i]}\")\n",
        "    print()"
      ],
      "metadata": {
        "colab": {
          "base_uri": "https://localhost:8080/"
        },
        "id": "D0nxHICdk0XS",
        "outputId": "10ab1796-222b-4f83-c8ca-83939042abfa"
      },
      "execution_count": null,
      "outputs": [
        {
          "output_type": "stream",
          "name": "stdout",
          "text": [
            "\n",
            "Accuracy Score:  0.79\n",
            "\n",
            "class p1:\n",
            "precision: 0.7850045167118338\n",
            "recall: 0.7589519650655022\n",
            "f1_score: 0.7717584369449378\n",
            "\n",
            "class p2:\n",
            "precision: 0.8385925719072884\n",
            "recall: 0.9211656441717792\n",
            "f1_score: 0.8779418213711445\n",
            "\n",
            "class p3:\n",
            "precision: 0.45555555555555555\n",
            "recall: 0.2787219578518015\n",
            "f1_score: 0.3458456347532686\n",
            "\n",
            "class p4:\n",
            "precision: 0.7369385884509624\n",
            "recall: 0.7153024911032029\n",
            "f1_score: 0.7259593679458239\n",
            "\n"
          ]
        }
      ]
    },
    {
      "cell_type": "markdown",
      "source": [
        "#### Hyperparameter tuning in xgboost"
      ],
      "metadata": {
        "id": "GPzW_8oy4HXK"
      }
    },
    {
      "cell_type": "code",
      "source": [
        "from sklearn.model_selection import GridSearchCV\n",
        "x_train, x_test, y_train, y_test = train_test_split(X, y_encoded, test_size=0.2, random_state=42)\n",
        "\n",
        "xgb_model = xgb.XGBClassifier(objectives='multi:softmax', num_class = 4)\n",
        "\n",
        "param_grid = {\n",
        "    'n_estimators': [100, 200, 300],\n",
        "    'learning_rate': [0.01, 0.1, 0.2],\n",
        "    'max_depth': [3, 5, 7],\n",
        "}\n",
        "\n",
        "grid_search = GridSearchCV(estimator=xgb_model, param_grid=param_grid, scoring='accuracy', cv=3, n_jobs=-1)\n",
        "grid_search.fit(x_train, y_train)\n",
        "\n",
        "print(\"Best Hyperparameters\", grid_search.best_params_)\n",
        "\n",
        "best_model = grid_search.best_estimator_\n",
        "accuracy = best_model.score(x_test, y_test)\n",
        "print(\"Test Accuracy:\", accuracy)"
      ],
      "metadata": {
        "id": "SEaSS6Xel4iS",
        "colab": {
          "base_uri": "https://localhost:8080/"
        },
        "outputId": "b13dc666-a714-46a3-d9a5-f0a9ca294432"
      },
      "execution_count": null,
      "outputs": [
        {
          "output_type": "stream",
          "name": "stdout",
          "text": [
            "Best Hyperparameters {'learning_rate': 0.1, 'max_depth': 5, 'n_estimators': 200}\n",
            "Test Accuracy: 0.7908382066276803\n"
          ]
        }
      ]
    },
    {
      "cell_type": "code",
      "source": [],
      "metadata": {
        "id": "_7ReQVkrrvty"
      },
      "execution_count": null,
      "outputs": []
    }
  ]
}